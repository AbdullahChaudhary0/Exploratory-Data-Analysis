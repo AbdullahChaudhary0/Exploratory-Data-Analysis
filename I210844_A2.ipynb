{
  "nbformat": 4,
  "nbformat_minor": 0,
  "metadata": {
    "colab": {
      "provenance": []
    },
    "kernelspec": {
      "name": "python3",
      "display_name": "Python 3"
    },
    "language_info": {
      "name": "python"
    }
  },
  "cells": [
    {
      "cell_type": "code",
      "source": [
        "#Word Frequency Analysis\n",
        "\n",
        "#Lexical Variation Analysis\n",
        "\n",
        "import pandas as pd\n",
        "from LughaatNLP import LughaatNLP\n",
        "from collections import Counter\n",
        "import nltk\n",
        "from nltk.corpus import stopwords\n",
        "\n",
        "# Initialize the normalizer\n",
        "urdu_normalizer = LughaatNLP()\n",
        "\n",
        "# Load the TSV file into a pandas DataFrame\n",
        "df = pd.read_csv('validated_sentences.tsv', sep='\\t')\n",
        "\n",
        "# Assuming the text column is named 'sentence'\n",
        "all_text = ' '.join(df['sentence'].astype(str).tolist())\n",
        "\n",
        "# Normalize and tokenize the entire text\n",
        "normalized_text = urdu_normalizer.normalize(all_text)\n",
        "tokens = urdu_normalizer.urdu_tokenize(normalized_text)\n",
        "\n",
        "# Filter out unwanted symbols (e.g., '.', '#')\n",
        "filtered_tokens = [token for token in tokens if token not in {'۔', '?'}]\n",
        "\n",
        "# Perform word frequency analysis\n",
        "word_freq = Counter(filtered_tokens)\n",
        "\n",
        "# Calculate the Type-Token Ratio (TTR)\n",
        "def calculate_ttr(tokens):\n",
        "    unique_tokens = set(tokens)\n",
        "    return len(unique_tokens) / len(tokens) if len(tokens) > 0 else 0\n",
        "\n",
        "# Calculate Lexical Density\n",
        "def calculate_lexical_density(tokens):\n",
        "    stop_words = set(stopwords.words('english'))  # Adjust for Urdu stop words if needed\n",
        "    content_words = [word for word in tokens if word.lower() not in stop_words]\n",
        "    return len(content_words) / len(tokens) if len(tokens) > 0 else 0\n",
        "\n",
        "# Calculate Vocabulary Size\n",
        "vocabulary_size = len(set(filtered_tokens))\n",
        "\n",
        "# Type-Token Ratio (TTR)\n",
        "ttr = calculate_ttr(filtered_tokens)\n",
        "\n",
        "# Lexical Density\n",
        "lexical_density = calculate_lexical_density(filtered_tokens)\n",
        "\n",
        "# Output results\n",
        "print(f\"Most Common Words: {word_freq.most_common(100)}\")\n",
        "print(f\"Vocabulary Size: {vocabulary_size}\")\n",
        "print(f\"Type-Token Ratio (TTR): {ttr:.4f}\")\n",
        "print(f\"Lexical Density: {lexical_density:.4f}\")\n"
      ],
      "metadata": {
        "colab": {
          "base_uri": "https://localhost:8080/"
        },
        "id": "q2e93V7lQLXj",
        "outputId": "e931ee28-8c8e-4f44-cf8f-4e18d369e402"
      },
      "execution_count": 19,
      "outputs": [
        {
          "output_type": "stream",
          "name": "stdout",
          "text": [
            "Most Common Words: [('ہے', 5764), ('میں', 4311), ('کے', 4180), ('کی', 3926), ('کا', 3158), ('سے', 2930), ('کو', 2254), ('ہیں', 2222), ('اس', 2170), ('اور', 1843), ('نہیں', 1634), ('یہ', 1457), ('نے', 1399), ('کہ', 1338), ('بھی', 1336), ('تو', 1318), ('پر', 1250), ('کیا', 1190), ('ہو', 1116), ('وہ', 1096), ('ایک', 1066), ('کر', 964), ('ان', 884), ('نہ', 855), ('ہوں', 818), ('تھا', 789), ('؟', 743), ('ہی', 646), ('جو', 594), ('‘', 542), ('ہم', 522), ('کوئی', 512), ('پاکستان', 511), ('لیے', 460), ('گا', 458), ('و', 445), ('اب', 435), ('اپ', 426), ('گیا', 423), ('کچھ', 423), ('تھے', 389), ('بہت', 375), ('اپنے', 358), ('سب', 355), ('ہوا', 353), ('بات', 350), ('تھی', 350), ('رہا', 337), ('دل', 337), ('کسی', 328), ('کرنے', 327), ('ساتھ', 322), ('ہوتا', 313), ('رہے', 311), ('پہ', 305), ('ہر', 303), ('وقت', 303), ('لیکن', 296), ('اپنی', 282), ('یا', 280), ('پھر', 275), ('دیا', 267), ('بے', 267), ('مجھے', 266), ('تک', 257), ('جب', 254), ('کرتا', 253), ('جس', 252), ('جائے', 250), ('گے', 250), ('اگر', 249), ('کرنا', 249), ('جا', 248), ('اج', 245), ('کام', 234), ('کیوں', 226), ('گی', 226), ('چاہیے', 225), ('اسے', 213), ('کرتے', 211), ('گئی', 210), ('طرح', 206), ('اسی', 204), ('گئے', 203), ('رہی', 202), ('زیادہ', 202), ('سی', 202), ('جاتا', 200), ('ملک', 200), ('دنیا', 198), ('بعد', 198), ('ہوئے', 195), ('کم', 184), ('میرے', 181), ('یہی', 181), ('اللہ', 179), ('کس', 178), ('لوگ', 177), ('کبھی', 176), ('دو', 175)]\n",
            "Vocabulary Size: 15637\n",
            "Type-Token Ratio (TTR): 0.0970\n",
            "Lexical Density: 1.0000\n"
          ]
        }
      ]
    }
  ]
}